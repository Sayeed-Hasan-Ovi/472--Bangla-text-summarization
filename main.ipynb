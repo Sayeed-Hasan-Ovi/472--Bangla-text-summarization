{
 "cells": [
  {
   "cell_type": "code",
   "execution_count": 1,
   "metadata": {
    "vscode": {
     "languageId": "shellscript"
    }
   },
   "outputs": [
    {
     "name": "stderr",
     "output_type": "stream",
     "text": [
      "c:\\Users\\Sayeed\\anaconda3\\lib\\site-packages\\huggingface_hub\\utils\\_runtime.py:184: UserWarning: Pydantic is installed but cannot be imported. Please check your installation. `huggingface_hub` will default to not using Pydantic. Error message: '{e}'\n",
      "  warnings.warn(\n"
     ]
    }
   ],
   "source": [
    "# need to read dataset from huggingface\n",
    "\n",
    "import torch\n",
    "import torch.nn as nn\n",
    "import torch.optim as optim\n",
    "import torch.nn.functional as F\n",
    "import numpy as np\n",
    "import pandas as pd\n",
    "import os\n",
    "import time\n",
    "import random\n",
    "import math\n",
    "import copy\n",
    "import json\n",
    "import re\n",
    "\n",
    "from datasets import load_dataset\n",
    "\n",
    "\n",
    "# huggingface datasets\n",
    "# ! pip install datasets"
   ]
  },
  {
   "cell_type": "code",
   "execution_count": 2,
   "metadata": {
    "vscode": {
     "languageId": "shellscript"
    }
   },
   "outputs": [],
   "source": [
    "def data_loader(index):\n",
    "    url = 'shahidul034/text_summarization_dataset'\n",
    "    url = url + str(index)\n",
    "    dataset = load_dataset(url)\n",
    "\n",
    "    path = 'text_summarization_dataset' + str(index) + '.csv'\n",
    "    dataset['train'].to_csv(path)\n",
    "    df = pd.read_csv(path)\n",
    "    \n",
    "\n",
    "\n",
    "\n",
    "    "
   ]
  },
  {
   "cell_type": "code",
   "execution_count": 8,
   "metadata": {
    "vscode": {
     "languageId": "shellscript"
    }
   },
   "outputs": [
    {
     "data": {
      "application/vnd.jupyter.widget-view+json": {
       "model_id": "9775a47bcca04ecfb9d34a04d58d9861",
       "version_major": 2,
       "version_minor": 0
      },
      "text/plain": [
       "Creating CSV from Arrow format:   0%|          | 0/107 [00:00<?, ?ba/s]"
      ]
     },
     "metadata": {},
     "output_type": "display_data"
    },
    {
     "data": {
      "application/vnd.jupyter.widget-view+json": {
       "model_id": "5820edc39bce46118723302ec9c5e208",
       "version_major": 2,
       "version_minor": 0
      },
      "text/plain": [
       "Creating CSV from Arrow format:   0%|          | 0/106 [00:00<?, ?ba/s]"
      ]
     },
     "metadata": {},
     "output_type": "display_data"
    },
    {
     "data": {
      "application/vnd.jupyter.widget-view+json": {
       "model_id": "704f3741acdf4c13ba12773c3e1948eb",
       "version_major": 2,
       "version_minor": 0
      },
      "text/plain": [
       "Creating CSV from Arrow format:   0%|          | 0/104 [00:00<?, ?ba/s]"
      ]
     },
     "metadata": {},
     "output_type": "display_data"
    },
    {
     "data": {
      "application/vnd.jupyter.widget-view+json": {
       "model_id": "0c7f2f6b39e447c4a6b5e1fe7e5f8499",
       "version_major": 2,
       "version_minor": 0
      },
      "text/plain": [
       "Creating CSV from Arrow format:   0%|          | 0/88 [00:00<?, ?ba/s]"
      ]
     },
     "metadata": {},
     "output_type": "display_data"
    },
    {
     "data": {
      "application/vnd.jupyter.widget-view+json": {
       "model_id": "a3b4decba9a9441b9f1685565a331a96",
       "version_major": 2,
       "version_minor": 0
      },
      "text/plain": [
       "Creating CSV from Arrow format:   0%|          | 0/130 [00:00<?, ?ba/s]"
      ]
     },
     "metadata": {},
     "output_type": "display_data"
    },
    {
     "data": {
      "application/vnd.jupyter.widget-view+json": {
       "model_id": "3d0ed0382e0242abb42f333fb658b26e",
       "version_major": 2,
       "version_minor": 0
      },
      "text/plain": [
       "Creating CSV from Arrow format:   0%|          | 0/114 [00:00<?, ?ba/s]"
      ]
     },
     "metadata": {},
     "output_type": "display_data"
    },
    {
     "data": {
      "application/vnd.jupyter.widget-view+json": {
       "model_id": "b36554f3877d4f6abc4bbafa6acb8405",
       "version_major": 2,
       "version_minor": 0
      },
      "text/plain": [
       "Creating CSV from Arrow format:   0%|          | 0/109 [00:00<?, ?ba/s]"
      ]
     },
     "metadata": {},
     "output_type": "display_data"
    },
    {
     "data": {
      "application/vnd.jupyter.widget-view+json": {
       "model_id": "f3025ae8d165498092e566ec4ca884ea",
       "version_major": 2,
       "version_minor": 0
      },
      "text/plain": [
       "Creating CSV from Arrow format:   0%|          | 0/102 [00:00<?, ?ba/s]"
      ]
     },
     "metadata": {},
     "output_type": "display_data"
    },
    {
     "data": {
      "application/vnd.jupyter.widget-view+json": {
       "model_id": "9d7f3a6b68394e8da1b93a313ef55ace",
       "version_major": 2,
       "version_minor": 0
      },
      "text/plain": [
       "Creating CSV from Arrow format:   0%|          | 0/105 [00:00<?, ?ba/s]"
      ]
     },
     "metadata": {},
     "output_type": "display_data"
    }
   ],
   "source": [
    "# initialize dataframe\n",
    "df = pd.DataFrame(columns=['title', 'content'])\n",
    "for i in range(1, 10):\n",
    "    data_loader(i)\n",
    "    df\n",
    "# index = 2\n",
    "# url = 'shahidul034/text_summarization_dataset'\n",
    "# url = url + str(index)\n",
    "# dataset = load_dataset(url)\n",
    "\n"
   ]
  },
  {
   "cell_type": "code",
   "execution_count": 9,
   "metadata": {
    "vscode": {
     "languageId": "shellscript"
    }
   },
   "outputs": [
    {
     "data": {
      "text/html": [
       "<div>\n",
       "<style scoped>\n",
       "    .dataframe tbody tr th:only-of-type {\n",
       "        vertical-align: middle;\n",
       "    }\n",
       "\n",
       "    .dataframe tbody tr th {\n",
       "        vertical-align: top;\n",
       "    }\n",
       "\n",
       "    .dataframe thead th {\n",
       "        text-align: right;\n",
       "    }\n",
       "</style>\n",
       "<table border=\"1\" class=\"dataframe\">\n",
       "  <thead>\n",
       "    <tr style=\"text-align: right;\">\n",
       "      <th></th>\n",
       "      <th>title</th>\n",
       "      <th>content</th>\n",
       "    </tr>\n",
       "  </thead>\n",
       "  <tbody>\n",
       "    <tr>\n",
       "      <th>0</th>\n",
       "      <td>নিজামউদ্দিনের দরগাহ জিয়ারত করলেন প্রধানমন্ত্রী</td>\n",
       "      <td>নয়াদিল্লিতে হযরত নিজামউদ্দিন আউলিয়ার দরগাহ জিয়...</td>\n",
       "    </tr>\n",
       "    <tr>\n",
       "      <th>1</th>\n",
       "      <td>শাহজালালে বিমানের টয়লেটে মিলল ৪০ স্বর্ণের বার</td>\n",
       "      <td>শাহজালাল আন্তর্জাতিক বিমানবন্দরে বিমান বাংলাদে...</td>\n",
       "    </tr>\n",
       "    <tr>\n",
       "      <th>2</th>\n",
       "      <td>শাহজালালে বিমানের টয়লেটে মিলল ৪০ স্বর্ণের বার</td>\n",
       "      <td>কাস্টমস কর্তৃপক্ষ সূত্র জানায়, কাস্টমস গোয়েন্...</td>\n",
       "    </tr>\n",
       "    <tr>\n",
       "      <th>3</th>\n",
       "      <td>যেকোনো প্রতিষ্ঠান-কর্তৃপক্ষে নিরীক্ষা চালাতে প...</td>\n",
       "      <td>জনসাধারণের টাকার প্রাপ্যতা, বৈধতা নিশ্চিত করতে...</td>\n",
       "    </tr>\n",
       "    <tr>\n",
       "      <th>4</th>\n",
       "      <td>যেকোনো প্রতিষ্ঠান-কর্তৃপক্ষে নিরীক্ষা চালাতে প...</td>\n",
       "      <td>প্রধান বিচারপতি হাসান ফয়েজ সিদ্দিকীর লেখা ১২ ...</td>\n",
       "    </tr>\n",
       "    <tr>\n",
       "      <th>...</th>\n",
       "      <td>...</td>\n",
       "      <td>...</td>\n",
       "    </tr>\n",
       "    <tr>\n",
       "      <th>105247</th>\n",
       "      <td>বায়তুল মোকাররমে ঈদের ৫ জামাত, প্রথমটি সকাল ৭টায়</td>\n",
       "      <td>এতে ইমামতি করবেন বায়তুল মুকাররম জাতীয় মসজিদের...</td>\n",
       "    </tr>\n",
       "    <tr>\n",
       "      <th>105248</th>\n",
       "      <td>বায়তুল মোকাররমে ঈদের ৫ জামাত, প্রথমটি সকাল ৭টায়</td>\n",
       "      <td>মুকাব্বির থাকবেন মুয়াজ্জিন হাফেজ ক্বারী কাজী ...</td>\n",
       "    </tr>\n",
       "    <tr>\n",
       "      <th>105249</th>\n",
       "      <td>বায়তুল মোকাররমে ঈদের ৫ জামাত, প্রথমটি সকাল ৭টায়</td>\n",
       "      <td>এই জামাতটি সকাল ১০টায় অনুষ্ঠিত হবে।পঞ্চম ও শে...</td>\n",
       "    </tr>\n",
       "    <tr>\n",
       "      <th>105250</th>\n",
       "      <td>ট্রেনে চেপে ঢাকায় এলো কোরবানির ৮০০ গরু</td>\n",
       "      <td>পবিত্র ঈদুল আজহা উপলক্ষে কোরবানির পশু পরিবহনের...</td>\n",
       "    </tr>\n",
       "    <tr>\n",
       "      <th>105251</th>\n",
       "      <td>ট্রেনে চেপে ঢাকায় এলো কোরবানির ৮০০ গরু</td>\n",
       "      <td>এতে ভাড়া বাবদ রেলওয়ের আয় হয় ৬৮ হাজার ৩৮০ টাক...</td>\n",
       "    </tr>\n",
       "  </tbody>\n",
       "</table>\n",
       "<p>105252 rows × 2 columns</p>\n",
       "</div>"
      ],
      "text/plain": [
       "                                                    title  \\\n",
       "0          নিজামউদ্দিনের দরগাহ জিয়ারত করলেন প্রধানমন্ত্রী   \n",
       "1          শাহজালালে বিমানের টয়লেটে মিলল ৪০ স্বর্ণের বার   \n",
       "2          শাহজালালে বিমানের টয়লেটে মিলল ৪০ স্বর্ণের বার   \n",
       "3       যেকোনো প্রতিষ্ঠান-কর্তৃপক্ষে নিরীক্ষা চালাতে প...   \n",
       "4       যেকোনো প্রতিষ্ঠান-কর্তৃপক্ষে নিরীক্ষা চালাতে প...   \n",
       "...                                                   ...   \n",
       "105247    বায়তুল মোকাররমে ঈদের ৫ জামাত, প্রথমটি সকাল ৭টায়   \n",
       "105248    বায়তুল মোকাররমে ঈদের ৫ জামাত, প্রথমটি সকাল ৭টায়   \n",
       "105249    বায়তুল মোকাররমে ঈদের ৫ জামাত, প্রথমটি সকাল ৭টায়   \n",
       "105250             ট্রেনে চেপে ঢাকায় এলো কোরবানির ৮০০ গরু   \n",
       "105251             ট্রেনে চেপে ঢাকায় এলো কোরবানির ৮০০ গরু   \n",
       "\n",
       "                                                  content  \n",
       "0       নয়াদিল্লিতে হযরত নিজামউদ্দিন আউলিয়ার দরগাহ জিয়...  \n",
       "1       শাহজালাল আন্তর্জাতিক বিমানবন্দরে বিমান বাংলাদে...  \n",
       "2        কাস্টমস কর্তৃপক্ষ সূত্র জানায়, কাস্টমস গোয়েন্...  \n",
       "3       জনসাধারণের টাকার প্রাপ্যতা, বৈধতা নিশ্চিত করতে...  \n",
       "4        প্রধান বিচারপতি হাসান ফয়েজ সিদ্দিকীর লেখা ১২ ...  \n",
       "...                                                   ...  \n",
       "105247   এতে ইমামতি করবেন বায়তুল মুকাররম জাতীয় মসজিদের...  \n",
       "105248   মুকাব্বির থাকবেন মুয়াজ্জিন হাফেজ ক্বারী কাজী ...  \n",
       "105249   এই জামাতটি সকাল ১০টায় অনুষ্ঠিত হবে।পঞ্চম ও শে...  \n",
       "105250  পবিত্র ঈদুল আজহা উপলক্ষে কোরবানির পশু পরিবহনের...  \n",
       "105251   এতে ভাড়া বাবদ রেলওয়ের আয় হয় ৬৮ হাজার ৩৮০ টাক...  \n",
       "\n",
       "[105252 rows x 2 columns]"
      ]
     },
     "execution_count": 9,
     "metadata": {},
     "output_type": "execute_result"
    }
   ],
   "source": [
    "df = pd.read_csv('text_summarization_dataset2.csv')\n",
    "df"
   ]
  },
  {
   "cell_type": "code",
   "execution_count": 10,
   "metadata": {
    "vscode": {
     "languageId": "shellscript"
    }
   },
   "outputs": [
    {
     "data": {
      "text/plain": [
       "DatasetDict({\n",
       "    train: Dataset({\n",
       "        features: ['title', 'content'],\n",
       "        num_rows: 105252\n",
       "    })\n",
       "})"
      ]
     },
     "execution_count": 10,
     "metadata": {},
     "output_type": "execute_result"
    }
   ],
   "source": [
    "dataset"
   ]
  },
  {
   "cell_type": "code",
   "execution_count": 12,
   "metadata": {
    "vscode": {
     "languageId": "shellscript"
    }
   },
   "outputs": [
    {
     "data": {
      "text/plain": [
       "{'title': 'শাহজালালে বিমানের টয়লেটে মিলল ৪০ স্বর্ণের বার',\n",
       " 'content': ' কাস্টমস কর্তৃপক্ষ সূত্র জানায়, কাস্টমস গোয়েন্দা ও তদন্ত অধিদপ্তরের মহাপরিচালকের কাছে সংবাদ আসে সংযুক্ত আরব আমিরাতের আবুধাবি থেকে চট্টগ্রাম হয়ে আসা বিমান বাংলাদেশ এয়ারলাইনসের বিমানে অবৈধভাবে চোরাচালানকৃত স্বর্ণ বহন করা হচ্ছে। এর প্রেক্ষিতে কাস্টমস গোয়েন্দা ও তদন্ত অধিদপ্তরের যুগ্ম মহাপরিচালক আরেফিন খানের নির্দেশে উপপরিচালক আহমেদুর রেজা চৌধুরীর নেতৃত্বে কাস্টমস গোয়েন্দার একটি দল ১০ নম্বর বোর্ডিং ব্রিজের সামনে অবস্থান নেয়।পরে কাস্টমস গোয়েন্দা দল বিমানের ভেতরে প্রবেশ করে এবং বিমানের টয়লেট থেকে বিশেষভাবে লুকিয়ে রাখা ৪০টি স্বর্ণবার উদ্ধার করে। যার মোট ওজন চর কেজি ৬৪০ গ্রাম। আটক স্বর্ণের বাজারমূল্য আনুমানিক তিন কোটি ২৪ লাখ ৮০ হাজার টাকা। এ বিষয়ে বিমানবন্দর থানায় মামলা দায়েরের প্রক্রিয়া চলছে।'}"
      ]
     },
     "execution_count": 12,
     "metadata": {},
     "output_type": "execute_result"
    }
   ],
   "source": [
    "dataset['train'][2]"
   ]
  }
 ],
 "metadata": {
  "kernelspec": {
   "display_name": "ML",
   "language": "python",
   "name": "python3"
  },
  "language_info": {
   "codemirror_mode": {
    "name": "ipython",
    "version": 3
   },
   "file_extension": ".py",
   "mimetype": "text/x-python",
   "name": "python",
   "nbconvert_exporter": "python",
   "pygments_lexer": "ipython3",
   "version": "3.8.8"
  }
 },
 "nbformat": 4,
 "nbformat_minor": 2
}
