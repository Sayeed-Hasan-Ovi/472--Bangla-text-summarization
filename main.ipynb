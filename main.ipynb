{
 "cells": [
  {
   "cell_type": "code",
   "execution_count": 2,
   "metadata": {
    "vscode": {
     "languageId": "shellscript"
    }
   },
   "outputs": [],
   "source": [
    "# need to read dataset from huggingface\n",
    "\n",
    "# import torch\n",
    "# import torch.nn as nn\n",
    "# import torch.optim as optim\n",
    "# import torch.nn.functional as F\n",
    "import numpy as np\n",
    "import pandas as pd\n",
    "import os\n",
    "import time\n",
    "import random\n",
    "import math\n",
    "import copy\n",
    "import json\n",
    "import re\n",
    "\n",
    "from datasets import load_dataset\n",
    "\n",
    "\n",
    "# huggingface datasets\n",
    "# ! pip install datasets"
   ]
  },
  {
   "cell_type": "code",
   "execution_count": 3,
   "metadata": {
    "vscode": {
     "languageId": "shellscript"
    }
   },
   "outputs": [],
   "source": [
    "def data_loader(index):\n",
    "    url = 'shahidul034/text_summarization_dataset'\n",
    "    url = url + str(index)\n",
    "    dataset = load_dataset(url)\n",
    "\n",
    "    path = 'text_summarization_dataset' + str(index) + '.csv'\n",
    "    dataset['train'].to_csv(path)\n",
    "    df = pd.read_csv(path)\n",
    "    \n",
    "\n",
    "\n",
    "\n",
    "    "
   ]
  },
  {
   "cell_type": "code",
   "execution_count": null,
   "metadata": {
    "vscode": {
     "languageId": "shellscript"
    }
   },
   "outputs": [],
   "source": [
    "# initialize dataframe\n",
    "df = pd.DataFrame(columns=['title', 'content'])\n",
    "for i in range(1, 10):\n",
    "    data_loader(i)\n",
    "    df\n",
    "# index = 2\n",
    "\n",
    "# dataset = load_dataset(url)\n",
    "\n"
   ]
  },
  {
   "cell_type": "code",
   "execution_count": 5,
   "metadata": {
    "vscode": {
     "languageId": "shellscript"
    }
   },
   "outputs": [
    {
     "data": {
      "text/html": [
       "<div>\n",
       "<style scoped>\n",
       "    .dataframe tbody tr th:only-of-type {\n",
       "        vertical-align: middle;\n",
       "    }\n",
       "\n",
       "    .dataframe tbody tr th {\n",
       "        vertical-align: top;\n",
       "    }\n",
       "\n",
       "    .dataframe thead th {\n",
       "        text-align: right;\n",
       "    }\n",
       "</style>\n",
       "<table border=\"1\" class=\"dataframe\">\n",
       "  <thead>\n",
       "    <tr style=\"text-align: right;\">\n",
       "      <th></th>\n",
       "      <th>title</th>\n",
       "      <th>content</th>\n",
       "    </tr>\n",
       "  </thead>\n",
       "  <tbody>\n",
       "    <tr>\n",
       "      <th>0</th>\n",
       "      <td>বেনাপোল বন্দর পরিদর্শনে বিশ্ব ব্যাংকের প্রতিনি...</td>\n",
       "      <td>বেনাপোলের অবকাঠামোগত উন্নয়নসহ আমদানি-রপ্তানি ব...</td>\n",
       "    </tr>\n",
       "    <tr>\n",
       "      <th>1</th>\n",
       "      <td>খুলনায় ট্রাক-প্রাইভেটকার সংঘর্ষে ৫ জনের মৃত্যু</td>\n",
       "      <td>খুলনার রূপসা বাইপাস সড়কে এক পথচারীকে বাঁচাতে গ...</td>\n",
       "    </tr>\n",
       "    <tr>\n",
       "      <th>2</th>\n",
       "      <td>খুলনায় ট্রাক-প্রাইভেটকার সংঘর্ষে ৫ জনের মৃত্যু</td>\n",
       "      <td>নিহতদের নাম পরিচয় জানা যায়নি।লবণচরা থানার ভার...</td>\n",
       "    </tr>\n",
       "    <tr>\n",
       "      <th>3</th>\n",
       "      <td>ঈশ্বরদীতে যুবলীগ নেতা ছুরিকাহত</td>\n",
       "      <td>পাবনার ঈশ্বরদী শহরের পশ্চিম টেংরী কাচারীপাড়ায় ...</td>\n",
       "    </tr>\n",
       "    <tr>\n",
       "      <th>4</th>\n",
       "      <td>ঈশ্বরদীতে যুবলীগ নেতা ছুরিকাহত</td>\n",
       "      <td>রবিবার বিকেলে পৌর যুবলীগের সহ-সভাপতি স্বপনসহ ...</td>\n",
       "    </tr>\n",
       "    <tr>\n",
       "      <th>...</th>\n",
       "      <td>...</td>\n",
       "      <td>...</td>\n",
       "    </tr>\n",
       "    <tr>\n",
       "      <th>101740</th>\n",
       "      <td>খুলনাসহ ২১ জেলায় স্বাভাবিক হচ্ছে বিদ্যুৎ</td>\n",
       "      <td>এদিকে দুপুর ২টা ৩৩ মিনিটে খুলনা ও বরিশালের বে...</td>\n",
       "    </tr>\n",
       "    <tr>\n",
       "      <th>101741</th>\n",
       "      <td>রামগঞ্জে স্বেচ্ছাসেবক লীগের কমিটি গঠন</td>\n",
       "      <td>লক্ষ্মীপুরের রামগঞ্জ উপজেলার ভাটরা ইউনিয়ন স্বে...</td>\n",
       "    </tr>\n",
       "    <tr>\n",
       "      <th>101742</th>\n",
       "      <td>ফরিদপুরে ম্যাটস শিক্ষার্থীদের মানববন্ধন</td>\n",
       "      <td>কেন্দ্রীয় কর্মসূচির অংশ হিসেবে উচ্চ শিক্ষাসহ চ...</td>\n",
       "    </tr>\n",
       "    <tr>\n",
       "      <th>101743</th>\n",
       "      <td>লক্ষ্মীপুরে ছাত্রলীগের চার নেতা বহিষ্কার</td>\n",
       "      <td>আধিপত্য বিস্তারকে কেন্দ্র করে লক্ষ্মীপুরে ছাত্...</td>\n",
       "    </tr>\n",
       "    <tr>\n",
       "      <th>101744</th>\n",
       "      <td>লক্ষ্মীপুরে ছাত্রলীগের চার নেতা বহিষ্কার</td>\n",
       "      <td>এর মধ্যে ধারলো অস্ত্রের আঘাতে আহত সিপাতের অবস...</td>\n",
       "    </tr>\n",
       "  </tbody>\n",
       "</table>\n",
       "<p>101745 rows × 2 columns</p>\n",
       "</div>"
      ],
      "text/plain": [
       "                                                    title  \\\n",
       "0       বেনাপোল বন্দর পরিদর্শনে বিশ্ব ব্যাংকের প্রতিনি...   \n",
       "1          খুলনায় ট্রাক-প্রাইভেটকার সংঘর্ষে ৫ জনের মৃত্যু   \n",
       "2          খুলনায় ট্রাক-প্রাইভেটকার সংঘর্ষে ৫ জনের মৃত্যু   \n",
       "3                          ঈশ্বরদীতে যুবলীগ নেতা ছুরিকাহত   \n",
       "4                          ঈশ্বরদীতে যুবলীগ নেতা ছুরিকাহত   \n",
       "...                                                   ...   \n",
       "101740           খুলনাসহ ২১ জেলায় স্বাভাবিক হচ্ছে বিদ্যুৎ   \n",
       "101741              রামগঞ্জে স্বেচ্ছাসেবক লীগের কমিটি গঠন   \n",
       "101742            ফরিদপুরে ম্যাটস শিক্ষার্থীদের মানববন্ধন   \n",
       "101743           লক্ষ্মীপুরে ছাত্রলীগের চার নেতা বহিষ্কার   \n",
       "101744           লক্ষ্মীপুরে ছাত্রলীগের চার নেতা বহিষ্কার   \n",
       "\n",
       "                                                  content  \n",
       "0       বেনাপোলের অবকাঠামোগত উন্নয়নসহ আমদানি-রপ্তানি ব...  \n",
       "1       খুলনার রূপসা বাইপাস সড়কে এক পথচারীকে বাঁচাতে গ...  \n",
       "2        নিহতদের নাম পরিচয় জানা যায়নি।লবণচরা থানার ভার...  \n",
       "3       পাবনার ঈশ্বরদী শহরের পশ্চিম টেংরী কাচারীপাড়ায় ...  \n",
       "4        রবিবার বিকেলে পৌর যুবলীগের সহ-সভাপতি স্বপনসহ ...  \n",
       "...                                                   ...  \n",
       "101740   এদিকে দুপুর ২টা ৩৩ মিনিটে খুলনা ও বরিশালের বে...  \n",
       "101741  লক্ষ্মীপুরের রামগঞ্জ উপজেলার ভাটরা ইউনিয়ন স্বে...  \n",
       "101742  কেন্দ্রীয় কর্মসূচির অংশ হিসেবে উচ্চ শিক্ষাসহ চ...  \n",
       "101743  আধিপত্য বিস্তারকে কেন্দ্র করে লক্ষ্মীপুরে ছাত্...  \n",
       "101744   এর মধ্যে ধারলো অস্ত্রের আঘাতে আহত সিপাতের অবস...  \n",
       "\n",
       "[101745 rows x 2 columns]"
      ]
     },
     "execution_count": 5,
     "metadata": {},
     "output_type": "execute_result"
    }
   ],
   "source": [
    "df = pd.read_csv('text_summarization_dataset8.csv')\n",
    "df"
   ]
  },
  {
   "cell_type": "code",
   "execution_count": null,
   "metadata": {
    "vscode": {
     "languageId": "shellscript"
    }
   },
   "outputs": [],
   "source": [
    "url = 'shahidul034/text_summarization_dataset'\n",
    "url = url + \"2\"\n",
    "dataset = load_dataset(url)"
   ]
  },
  {
   "cell_type": "code",
   "execution_count": 10,
   "metadata": {
    "vscode": {
     "languageId": "shellscript"
    }
   },
   "outputs": [
    {
     "data": {
      "text/plain": [
       "DatasetDict({\n",
       "    train: Dataset({\n",
       "        features: ['title', 'content'],\n",
       "        num_rows: 105252\n",
       "    })\n",
       "})"
      ]
     },
     "execution_count": 10,
     "metadata": {},
     "output_type": "execute_result"
    }
   ],
   "source": [
    "dataset"
   ]
  },
  {
   "cell_type": "code",
   "execution_count": 13,
   "metadata": {
    "vscode": {
     "languageId": "shellscript"
    }
   },
   "outputs": [
    {
     "data": {
      "text/plain": [
       "{'title': 'শাহজালালে বিমানের টয়লেটে মিলল ৪০ স্বর্ণের বার',\n",
       " 'content': ' কাস্টমস কর্তৃপক্ষ সূত্র জানায়, কাস্টমস গোয়েন্দা ও তদন্ত অধিদপ্তরের মহাপরিচালকের কাছে সংবাদ আসে সংযুক্ত আরব আমিরাতের আবুধাবি থেকে চট্টগ্রাম হয়ে আসা বিমান বাংলাদেশ এয়ারলাইনসের বিমানে অবৈধভাবে চোরাচালানকৃত স্বর্ণ বহন করা হচ্ছে। এর প্রেক্ষিতে কাস্টমস গোয়েন্দা ও তদন্ত অধিদপ্তরের যুগ্ম মহাপরিচালক আরেফিন খানের নির্দেশে উপপরিচালক আহমেদুর রেজা চৌধুরীর নেতৃত্বে কাস্টমস গোয়েন্দার একটি দল ১০ নম্বর বোর্ডিং ব্রিজের সামনে অবস্থান নেয়।পরে কাস্টমস গোয়েন্দা দল বিমানের ভেতরে প্রবেশ করে এবং বিমানের টয়লেট থেকে বিশেষভাবে লুকিয়ে রাখা ৪০টি স্বর্ণবার উদ্ধার করে। যার মোট ওজন চর কেজি ৬৪০ গ্রাম। আটক স্বর্ণের বাজারমূল্য আনুমানিক তিন কোটি ২৪ লাখ ৮০ হাজার টাকা। এ বিষয়ে বিমানবন্দর থানায় মামলা দায়েরের প্রক্রিয়া চলছে।'}"
      ]
     },
     "execution_count": 13,
     "metadata": {},
     "output_type": "execute_result"
    }
   ],
   "source": [
    "dataset['train'][2]"
   ]
  },
  {
   "cell_type": "code",
   "execution_count": 15,
   "metadata": {
    "vscode": {
     "languageId": "shellscript"
    }
   },
   "outputs": [
    {
     "data": {
      "text/plain": [
       "['শাহজালাল',\n",
       " 'আনত',\n",
       " '##র',\n",
       " '##জাতিক',\n",
       " 'বিমান',\n",
       " '##বন',\n",
       " '##দরে',\n",
       " 'বিমান',\n",
       " 'বাংলাদেশ',\n",
       " 'এ',\n",
       " '##যার',\n",
       " '##লাইন',\n",
       " '##সের',\n",
       " 'একটি',\n",
       " 'ফলা',\n",
       " '##ইট',\n",
       " '##ের',\n",
       " 'ট',\n",
       " '##য',\n",
       " '##লেট',\n",
       " 'থেকে',\n",
       " 'বিশেষভাবে',\n",
       " 'লকি',\n",
       " '##যে',\n",
       " 'রাখা',\n",
       " '[UNK]',\n",
       " 'সব',\n",
       " '##র',\n",
       " '##ণের',\n",
       " 'বার',\n",
       " 'উদ',\n",
       " '##ধার',\n",
       " 'করা',\n",
       " 'হযেছে',\n",
       " '।',\n",
       " 'আজ',\n",
       " 'সে',\n",
       " '##াম',\n",
       " '##বার',\n",
       " 'দপ',\n",
       " '##র',\n",
       " 'সা',\n",
       " '##ডে',\n",
       " '[UNK]',\n",
       " 'দিকে',\n",
       " 'এই',\n",
       " 'সব',\n",
       " '##র',\n",
       " '##ণ',\n",
       " 'উদ',\n",
       " '##ধার',\n",
       " 'করেন',\n",
       " 'কাস',\n",
       " '##টম',\n",
       " '##স',\n",
       " 'গে',\n",
       " '##ায',\n",
       " '##েন',\n",
       " '##দা',\n",
       " 'ও',\n",
       " 'তদ',\n",
       " '##ন',\n",
       " '##ত',\n",
       " 'অধি',\n",
       " '##দ',\n",
       " '##পত',\n",
       " '##রে',\n",
       " '##র',\n",
       " 'করম',\n",
       " '##কর',\n",
       " '##তারা',\n",
       " '।',\n",
       " 'পরত',\n",
       " '##িটি',\n",
       " 'বারের',\n",
       " 'ওজন',\n",
       " '[UNK]',\n",
       " 'গর',\n",
       " '##াম',\n",
       " '।',\n",
       " 'মে',\n",
       " '##াট',\n",
       " 'ওজন',\n",
       " 'চার',\n",
       " 'কেজি',\n",
       " '[UNK]',\n",
       " 'গর',\n",
       " '##াম',\n",
       " 'বলে',\n",
       " 'জানা',\n",
       " 'গেছে']"
      ]
     },
     "execution_count": 15,
     "metadata": {},
     "output_type": "execute_result"
    }
   ],
   "source": [
    "from transformers import AutoTokenizer, AutoModel\n",
    "\n",
    "bnbert_tokenizer = AutoTokenizer.from_pretrained(\"sagorsarker/bangla-bert-base\")\n",
    "# text = \"আমি বাংলায় গান গাই।\"\n",
    "# bnbert_tokenizer.tokenize(text)\n",
    "# ['আমি', 'বাংলা', '##য', 'গান', 'গাই', '।']\n",
    "\n",
    "text = dataset['train'][1]['content']\n",
    "text\n",
    "# 'শাহজালাল আন্তর্জাতিক বিমানবন্দরে বিমান বাংলাদেশ এয়ারলাইনসের একটি ফ্লাইটের টয়লেট থেকে বিশেষভাবে লুকিয়ে রাখা ৪০টি স্বর্ণের বার উদ্ধার করা হয়েছে। আজ সোমবার দুপুর সাড়ে ১২টার দিকে এই স্বর্ণ উদ্ধার করেন কাস্টমস গোয়েন্দা ও তদন্ত অধিদপ্তরের কর্মকর্তারা।প্রতিটি বারের ওজন ১১৬ গ্রাম। মোট ওজন চার কেজি ৬৪০ গ্রাম বলে জানা গেছে'\n",
    "bnbert_tokenizer.tokenize(text)"
   ]
  }
 ],
 "metadata": {
  "kernelspec": {
   "display_name": "ML",
   "language": "python",
   "name": "python3"
  },
  "language_info": {
   "codemirror_mode": {
    "name": "ipython",
    "version": 3
   },
   "file_extension": ".py",
   "mimetype": "text/x-python",
   "name": "python",
   "nbconvert_exporter": "python",
   "pygments_lexer": "ipython3",
   "version": "3.11.5"
  }
 },
 "nbformat": 4,
 "nbformat_minor": 2
}
